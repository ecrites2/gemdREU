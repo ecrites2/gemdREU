{
 "cells": [
  {
   "cell_type": "code",
   "execution_count": 71,
   "metadata": {},
   "outputs": [],
   "source": [
    "import pathlib\n",
    "from gemd.entity import ProcessTemplate, ParameterTemplate, RealBounds, CategoricalBounds, ConditionTemplate\n",
    "from gemd.entity import ProcessSpec, PerformedSource, Condition, NominalReal, NominalCategorical, Parameter\n",
    "from gemd.entity.util import make_instance\n",
    "from gemd.json import GEMDJson"
   ]
  },
  {
   "cell_type": "code",
   "execution_count": 98,
   "metadata": {},
   "outputs": [],
   "source": [
    "#One cell to define a dictionary of all the parameters\n",
    "\n",
    "creating_puck = {\n",
    "    'name': 'Julia',\n",
    "    'date': '7/15/2022',\n",
    "    'glass-slide thickness': '2.0', # in units of mm\n",
    "    'vaseline name': 'Vaspure',\n",
    "    'amount of vaseline': '6', # in units of l\n",
    "    'humidity': '0.08', # fractional, from 0 to 1\n",
    "}"
   ]
  },
  {
   "cell_type": "code",
   "execution_count": 99,
   "metadata": {},
   "outputs": [],
   "source": [
    "humidity_templ = ConditionTemplate(\n",
    "    'humidity',\n",
    "    bounds=RealBounds(0.,1.0,'dimensionless')\n",
    ")\n",
    "\n",
    "temp = ProcessTemplate(\n",
    "    'creating puck',\n",
    "    parameters=[\n",
    "        ParameterTemplate(\n",
    "            'glass thickness',\n",
    "            bounds=RealBounds(0.0,10.0,'mm')\n",
    "        ),\n",
    "        ParameterTemplate(\n",
    "            'amount of vaseline',\n",
    "            bounds=RealBounds(0.0,15.0,'ml')\n",
    "        ),\n",
    "        ParameterTemplate(\n",
    "            'name of vaseline',\n",
    "            bounds=CategoricalBounds(['Vaspure','Vaseline','Giant','Nivea'])\n",
    "        )\n",
    "    ],\n",
    ")"
   ]
  },
  {
   "cell_type": "code",
   "execution_count": 100,
   "metadata": {},
   "outputs": [
    {
     "data": {
      "text/plain": [
       "{'parameters': [[{'description': None, 'name': 'glass thickness', 'tags': [], 'uids': {}, 'bounds': {'default_units': 'millimeter', 'lower_bound': 0.0, 'upper_bound': 10.0, 'type': 'real_bounds'}, 'type': 'parameter_template'}, None], [{'description': None, 'name': 'amount of vaseline', 'tags': [], 'uids': {}, 'bounds': {'default_units': 'milliliter', 'lower_bound': 0.0, 'upper_bound': 15.0, 'type': 'real_bounds'}, 'type': 'parameter_template'}, None], [{'description': None, 'name': 'name of vaseline', 'tags': [], 'uids': {}, 'bounds': {'type': 'categorical_bounds', 'categories': ['Giant', 'Nivea', 'Vaseline', 'Vaspure']}, 'type': 'parameter_template'}, None]], 'allowed_names': [], 'allowed_labels': [], 'description': None, 'name': 'creating puck', 'tags': [], 'conditions': [], 'uids': {}, 'type': 'process_template'}"
      ]
     },
     "execution_count": 100,
     "metadata": {},
     "output_type": "execute_result"
    }
   ],
   "source": [
    "temp"
   ]
  },
  {
   "cell_type": "code",
   "execution_count": 101,
   "metadata": {},
   "outputs": [],
   "source": [
    "spec = ProcessSpec(\n",
    "    name='creating puck',\n",
    "    template=temp,\n",
    "    conditions=[],\n",
    "    parameters=[\n",
    "        Parameter(\n",
    "            'glass thickness',\n",
    "            value=NominalReal(float(creating_puck['glass-slide thickness']),'mm'),\n",
    "        ),\n",
    "        Parameter(\n",
    "            'amount of vaseline',\n",
    "            value=NominalReal(float(creating_puck['amount of vaseline']),'ml')\n",
    "        ),\n",
    "        Parameter(\n",
    "            'name of vaseline',\n",
    "            value=NominalCategorical(creating_puck['vaseline name'])\n",
    "        )\n",
    "    ],\n",
    ")"
   ]
  },
  {
   "cell_type": "code",
   "execution_count": 102,
   "metadata": {},
   "outputs": [
    {
     "data": {
      "text/plain": [
       "{'parameters': [{'value': {'units': 'millimeter', 'nominal': 2.0, 'type': 'nominal_real'}, 'template': None, 'name': 'glass thickness', 'origin': 'unknown', 'notes': None, 'file_links': [], 'type': 'parameter'}, {'value': {'units': 'milliliter', 'nominal': 6.0, 'type': 'nominal_real'}, 'template': None, 'name': 'amount of vaseline', 'origin': 'unknown', 'notes': None, 'file_links': [], 'type': 'parameter'}, {'value': {'category': 'Vaspure', 'type': 'nominal_categorical'}, 'template': None, 'name': 'name of vaseline', 'origin': 'unknown', 'notes': None, 'file_links': [], 'type': 'parameter'}], 'template': {'parameters': [[{'description': None, 'name': 'glass thickness', 'tags': [], 'uids': {}, 'bounds': {'default_units': 'millimeter', 'lower_bound': 0.0, 'upper_bound': 10.0, 'type': 'real_bounds'}, 'type': 'parameter_template'}, None], [{'description': None, 'name': 'amount of vaseline', 'tags': [], 'uids': {}, 'bounds': {'default_units': 'milliliter', 'lower_bound': 0.0, 'upper_bound': 15.0, 'type': 'real_bounds'}, 'type': 'parameter_template'}, None], [{'description': None, 'name': 'name of vaseline', 'tags': [], 'uids': {}, 'bounds': {'type': 'categorical_bounds', 'categories': ['Giant', 'Nivea', 'Vaseline', 'Vaspure']}, 'type': 'parameter_template'}, None]], 'allowed_names': [], 'allowed_labels': [], 'description': None, 'name': 'creating puck', 'tags': [], 'conditions': [], 'uids': {}, 'type': 'process_template'}, 'name': 'creating puck', 'tags': [], 'conditions': [], 'notes': None, 'uids': {}, 'file_links': [], 'type': 'process_spec', 'ingredients': [], 'output_material': None}"
      ]
     },
     "execution_count": 102,
     "metadata": {},
     "output_type": "execute_result"
    }
   ],
   "source": [
    "spec"
   ]
  },
  {
   "cell_type": "code",
   "execution_count": 103,
   "metadata": {},
   "outputs": [],
   "source": [
    "run = make_instance(spec)\n",
    "run.source = PerformedSource(creating_puck['name'],creating_puck['date'])\n",
    "run.conditions.append(\n",
    "    Condition(\n",
    "            'humidity',\n",
    "            value=NominalReal(float(creating_puck['humidity']),'kg/kg'),\n",
    "            template=humidity_templ\n",
    "        )\n",
    ")"
   ]
  },
  {
   "cell_type": "code",
   "execution_count": 104,
   "metadata": {},
   "outputs": [
    {
     "data": {
      "text/plain": [
       "{'spec': {'parameters': [{'value': {'units': 'millimeter', 'nominal': 2.0, 'type': 'nominal_real'}, 'template': None, 'name': 'glass thickness', 'origin': 'unknown', 'notes': None, 'file_links': [], 'type': 'parameter'}, {'value': {'units': 'milliliter', 'nominal': 6.0, 'type': 'nominal_real'}, 'template': None, 'name': 'amount of vaseline', 'origin': 'unknown', 'notes': None, 'file_links': [], 'type': 'parameter'}, {'value': {'category': 'Vaspure', 'type': 'nominal_categorical'}, 'template': None, 'name': 'name of vaseline', 'origin': 'unknown', 'notes': None, 'file_links': [], 'type': 'parameter'}], 'template': {'parameters': [[{'description': None, 'name': 'glass thickness', 'tags': [], 'uids': {}, 'bounds': {'default_units': 'millimeter', 'lower_bound': 0.0, 'upper_bound': 10.0, 'type': 'real_bounds'}, 'type': 'parameter_template'}, None], [{'description': None, 'name': 'amount of vaseline', 'tags': [], 'uids': {}, 'bounds': {'default_units': 'milliliter', 'lower_bound': 0.0, 'upper_bound': 15.0, 'type': 'real_bounds'}, 'type': 'parameter_template'}, None], [{'description': None, 'name': 'name of vaseline', 'tags': [], 'uids': {}, 'bounds': {'type': 'categorical_bounds', 'categories': ['Giant', 'Nivea', 'Vaseline', 'Vaspure']}, 'type': 'parameter_template'}, None]], 'allowed_names': [], 'allowed_labels': [], 'description': None, 'name': 'creating puck', 'tags': [], 'conditions': [], 'uids': {}, 'type': 'process_template'}, 'name': 'creating puck', 'tags': [], 'conditions': [], 'notes': None, 'uids': {}, 'file_links': [], 'type': 'process_spec', 'ingredients': [], 'output_material': None}, 'parameters': [], 'name': 'creating puck', 'source': {'performed_by': 'Julia', 'performed_date': '7/15/2022', 'type': 'performed_source'}, 'tags': [], 'conditions': [{'value': {'units': 'dimensionless', 'nominal': 0.08, 'type': 'nominal_real'}, 'template': {'description': None, 'name': 'humidity', 'tags': [], 'uids': {}, 'bounds': {'default_units': 'dimensionless', 'lower_bound': 0.0, 'upper_bound': 1.0, 'type': 'real_bounds'}, 'type': 'condition_template'}, 'name': 'humidity', 'origin': 'unknown', 'notes': None, 'file_links': [], 'type': 'condition'}], 'notes': None, 'uids': {}, 'file_links': [], 'type': 'process_run', 'ingredients': [], 'output_material': None}"
      ]
     },
     "execution_count": 104,
     "metadata": {},
     "output_type": "execute_result"
    }
   ],
   "source": [
    "run"
   ]
  },
  {
   "cell_type": "code",
   "execution_count": 110,
   "metadata": {},
   "outputs": [],
   "source": [
    "encoder = GEMDJson()\n",
    "\n",
    "fn = 'example_process_template.json'\n",
    "with open(pathlib.Path()/fn,'w') as fp :\n",
    "    fp.write(encoder.thin_dumps(temp,indent=2))\n",
    "\n",
    "fn = 'example_process_spec.json'\n",
    "with open(pathlib.Path()/fn,'w') as fp :\n",
    "    fp.write(encoder.thin_dumps(spec,indent=2))\n",
    "\n",
    "fn = 'example_process_run.json'\n",
    "with open(pathlib.Path()/fn,'w') as fp :\n",
    "    fp.write(encoder.thin_dumps(run,indent=2))\n",
    "\n",
    "entire_model_fn = 'entire_model.json'\n",
    "with open(pathlib.Path()/entire_model_fn,'w') as fp :\n",
    "    fp.write(encoder.dumps([run],indent=2))\n"
   ]
  },
  {
   "cell_type": "code",
   "execution_count": 115,
   "metadata": {},
   "outputs": [],
   "source": [
    "with open(pathlib.Path()/entire_model_fn,'r') as fp :\n",
    "    runs = encoder.load(fp)\n",
    "run = runs[0]"
   ]
  },
  {
   "cell_type": "code",
   "execution_count": 117,
   "metadata": {},
   "outputs": [
    {
     "data": {
      "text/plain": [
       "True"
      ]
     },
     "execution_count": 117,
     "metadata": {},
     "output_type": "execute_result"
    }
   ],
   "source": [
    "run.spec==spec"
   ]
  },
  {
   "cell_type": "markdown",
   "metadata": {},
   "source": [
    "## Original code"
   ]
  },
  {
   "cell_type": "code",
   "execution_count": 6,
   "metadata": {},
   "outputs": [],
   "source": [
    "#name of of material being placed into a copper X-ray diffractometer\n",
    "XRD_Cu_name = ' '\n",
    "#conditions \n",
    "XRD_Cu_conditions = {\n",
    "    'glass-slide thickness': '2.0mm',\n",
    "    'vasline name': 'Vaspure',\n",
    "    'amount of vasilne': '6ml',\n",
    "    'humidity level in lab': '20ml'}\n",
    "#parameters - put in name of parameter file\n",
    "XRD_Cu_parameters = {\n",
    "    'angle range': None,\n",
    "    'duration': None}\n",
    "#tags\n",
    "XRD_Cu_tags = ''\n",
    "#notes\n",
    "XRD_Cu_notes = ''\n",
    "#links to the file\n",
    "XRD_Cu_filelinks = ''\n"
   ]
  },
  {
   "cell_type": "code",
   "execution_count": 4,
   "metadata": {},
   "outputs": [],
   "source": [
    "#name of of material being placed into a Electric Transport PPMS diffractometer\n",
    "PPMS_ET_name = ' '\n",
    "#conditions \n",
    "PPMS_ET_conditions = {\n",
    "    'voltage orientation': None,\n",
    "    'humidity level in lab': None }\n",
    "#parameters - put in name of parameter file\n",
    "PPMS_ET_parametersfile = {\n",
    "    'current': None,\n",
    "    'sample dimentions': None,\n",
    "    'compound stochiometry': None}\n",
    "#tags\n",
    "PPMS_ET_tags = ''\n",
    "#notes\n",
    "PPMS_ET_notes = ''\n",
    "#links to the file\n",
    "PPMS_ET_filelinks = ''"
   ]
  },
  {
   "cell_type": "code",
   "execution_count": 7,
   "metadata": {},
   "outputs": [
    {
     "ename": "TypeError",
     "evalue": "__init__() takes 2 positional arguments but 7 were given",
     "output_type": "error",
     "traceback": [
      "\u001b[1;31m---------------------------------------------------------------------------\u001b[0m",
      "\u001b[1;31mTypeError\u001b[0m                                 Traceback (most recent call last)",
      "\u001b[1;32m<ipython-input-7-8475870e71f5>\u001b[0m in \u001b[0;36m<module>\u001b[1;34m\u001b[0m\n\u001b[0;32m      2\u001b[0m \u001b[1;33m\u001b[0m\u001b[0m\n\u001b[0;32m      3\u001b[0m \u001b[1;33m\u001b[0m\u001b[0m\n\u001b[1;32m----> 4\u001b[1;33m \u001b[0mspec\u001b[0m \u001b[1;33m=\u001b[0m \u001b[0mProcessSpec\u001b[0m\u001b[1;33m(\u001b[0m\u001b[0mXRD_Cu_name\u001b[0m\u001b[1;33m,\u001b[0m\u001b[0mXRD_Cu_conditions\u001b[0m\u001b[1;33m,\u001b[0m\u001b[0mXRD_Cu_parameters\u001b[0m\u001b[1;33m,\u001b[0m\u001b[0mXRD_Cu_tags\u001b[0m\u001b[1;33m,\u001b[0m\u001b[0mXRD_Cu_notes\u001b[0m\u001b[1;33m,\u001b[0m\u001b[0mXRD_Cu_filelinks\u001b[0m\u001b[1;33m)\u001b[0m\u001b[1;33m\u001b[0m\u001b[1;33m\u001b[0m\u001b[0m\n\u001b[0m\u001b[0;32m      5\u001b[0m \u001b[1;31m# where each of the parameters to the function call are filled out with information from the dictionary.\u001b[0m\u001b[1;33m\u001b[0m\u001b[1;33m\u001b[0m\u001b[1;33m\u001b[0m\u001b[0m\n\u001b[0;32m      6\u001b[0m \u001b[1;33m\u001b[0m\u001b[0m\n",
      "\u001b[1;31mTypeError\u001b[0m: __init__() takes 2 positional arguments but 7 were given"
     ]
    }
   ],
   "source": [
    "from gemd.entity.object import ProcessSpec\n",
    "\n",
    "\n",
    "spec = ProcessSpec(XRD_Cu_name,XRD_Cu_conditions,XRD_Cu_parameters,XRD_Cu_tags,XRD_Cu_notes,XRD_Cu_filelinks)\n",
    "# where each of the parameters to the function call are filled out with information from the dictionary. \n",
    "\n",
    "#The name is the name of the material (a string), conditions is a list of GEMD Condition objects, etc.\n",
    "# and then when you have that you can say:\n",
    "\n",
    "run = make_instance(spec)\n",
    "run.source = PerformedSource(person,date)"
   ]
  },
  {
   "cell_type": "code",
   "execution_count": null,
   "metadata": {},
   "outputs": [],
   "source": []
  },
  {
   "cell_type": "code",
   "execution_count": null,
   "metadata": {},
   "outputs": [],
   "source": []
  }
 ],
 "metadata": {
  "kernelspec": {
   "display_name": "Python 3.9.13 ('openmsi')",
   "language": "python",
   "name": "python3"
  },
  "language_info": {
   "codemirror_mode": {
    "name": "ipython",
    "version": 3
   },
   "file_extension": ".py",
   "mimetype": "text/x-python",
   "name": "python",
   "nbconvert_exporter": "python",
   "pygments_lexer": "ipython3",
   "version": "3.9.13"
  },
  "vscode": {
   "interpreter": {
    "hash": "2a041ad1270c77aaba3f77c347730a743c4c6c04bd78b280d1b1e1055a56bd74"
   }
  }
 },
 "nbformat": 4,
 "nbformat_minor": 4
}
