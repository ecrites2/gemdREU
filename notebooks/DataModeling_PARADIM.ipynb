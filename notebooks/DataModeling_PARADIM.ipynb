{
 "cells": [
  {
   "cell_type": "code",
   "execution_count": 6,
   "metadata": {},
   "outputs": [],
   "source": [
    "#name of of material being placed into a copper X-ray diffractometer\n",
    "XRD_Cu_name = ' '\n",
    "#conditions \n",
    "XRD_Cu_conditions = {\n",
    "    'glass-slide thickness': '2.0mm',\n",
    "    'vasline name': 'Vaspure',\n",
    "    'amount of vasilne': '6ml',\n",
    "    'humidity level in lab': '20ml'}\n",
    "#parameters - put in name of parameter file\n",
    "XRD_Cu_parameters = {\n",
    "    'angle range': None,\n",
    "    'duration': None}\n",
    "#tags\n",
    "XRD_Cu_tags = ''\n",
    "#notes\n",
    "XRD_Cu_notes = ''\n",
    "#links to the file\n",
    "XRD_Cu_filelinks = ''\n"
   ]
  },
  {
   "cell_type": "code",
   "execution_count": 4,
   "metadata": {},
   "outputs": [],
   "source": [
    "#name of of material being placed into a Electric Transport PPMS diffractometer\n",
    "PPMS_ET_name = ' '\n",
    "#conditions \n",
    "PPMS_ET_conditions = {\n",
    "    'voltage orientation': None,\n",
    "    'humidity level in lab': None }\n",
    "#parameters - put in name of parameter file\n",
    "PPMS_ET_parametersfile = {\n",
    "    'current': None,\n",
    "    'sample dimentions': None,\n",
    "    'compound stochiometry': None}\n",
    "#tags\n",
    "PPMS_ET_tags = ''\n",
    "#notes\n",
    "PPMS_ET_notes = ''\n",
    "#links to the file\n",
    "PPMS_ET_filelinks = ''"
   ]
  },
  {
   "cell_type": "code",
   "execution_count": 7,
   "metadata": {},
   "outputs": [
    {
     "ename": "TypeError",
     "evalue": "__init__() takes 2 positional arguments but 7 were given",
     "output_type": "error",
     "traceback": [
      "\u001b[1;31m---------------------------------------------------------------------------\u001b[0m",
      "\u001b[1;31mTypeError\u001b[0m                                 Traceback (most recent call last)",
      "\u001b[1;32m<ipython-input-7-8475870e71f5>\u001b[0m in \u001b[0;36m<module>\u001b[1;34m\u001b[0m\n\u001b[0;32m      2\u001b[0m \u001b[1;33m\u001b[0m\u001b[0m\n\u001b[0;32m      3\u001b[0m \u001b[1;33m\u001b[0m\u001b[0m\n\u001b[1;32m----> 4\u001b[1;33m \u001b[0mspec\u001b[0m \u001b[1;33m=\u001b[0m \u001b[0mProcessSpec\u001b[0m\u001b[1;33m(\u001b[0m\u001b[0mXRD_Cu_name\u001b[0m\u001b[1;33m,\u001b[0m\u001b[0mXRD_Cu_conditions\u001b[0m\u001b[1;33m,\u001b[0m\u001b[0mXRD_Cu_parameters\u001b[0m\u001b[1;33m,\u001b[0m\u001b[0mXRD_Cu_tags\u001b[0m\u001b[1;33m,\u001b[0m\u001b[0mXRD_Cu_notes\u001b[0m\u001b[1;33m,\u001b[0m\u001b[0mXRD_Cu_filelinks\u001b[0m\u001b[1;33m)\u001b[0m\u001b[1;33m\u001b[0m\u001b[1;33m\u001b[0m\u001b[0m\n\u001b[0m\u001b[0;32m      5\u001b[0m \u001b[1;31m# where each of the parameters to the function call are filled out with information from the dictionary.\u001b[0m\u001b[1;33m\u001b[0m\u001b[1;33m\u001b[0m\u001b[1;33m\u001b[0m\u001b[0m\n\u001b[0;32m      6\u001b[0m \u001b[1;33m\u001b[0m\u001b[0m\n",
      "\u001b[1;31mTypeError\u001b[0m: __init__() takes 2 positional arguments but 7 were given"
     ]
    }
   ],
   "source": [
    "from gemd.entity.object import ProcessSpec\n",
    "\n",
    "\n",
    "spec = ProcessSpec(XRD_Cu_name,XRD_Cu_conditions,XRD_Cu_parameters,XRD_Cu_tags,XRD_Cu_notes,XRD_Cu_filelinks)\n",
    "# where each of the parameters to the function call are filled out with information from the dictionary. \n",
    "\n",
    "#The name is the name of the material (a string), conditions is a list of GEMD Condition objects, etc.\n",
    "# and then when you have that you can say:\n",
    "\n",
    "run = make_instance(spec)\n",
    "run.source = PerformedSource(person,date)"
   ]
  },
  {
   "cell_type": "code",
   "execution_count": null,
   "metadata": {},
   "outputs": [],
   "source": []
  },
  {
   "cell_type": "code",
   "execution_count": null,
   "metadata": {},
   "outputs": [],
   "source": []
  }
 ],
 "metadata": {
  "kernelspec": {
   "display_name": "Python 3",
   "language": "python",
   "name": "python3"
  },
  "language_info": {
   "codemirror_mode": {
    "name": "ipython",
    "version": 3
   },
   "file_extension": ".py",
   "mimetype": "text/x-python",
   "name": "python",
   "nbconvert_exporter": "python",
   "pygments_lexer": "ipython3",
   "version": "3.8.5"
  }
 },
 "nbformat": 4,
 "nbformat_minor": 4
}
