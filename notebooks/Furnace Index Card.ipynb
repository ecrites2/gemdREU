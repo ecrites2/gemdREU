{
 "cells": [
  {
   "cell_type": "markdown",
   "id": "f487add8-6ab3-4eef-ad87-989c084d26b3",
   "metadata": {},
   "source": [
    "This is the furnace index card processing script! "
   ]
  },
  {
   "cell_type": "markdown",
   "id": "b80aea4d-b9e1-49cb-bcde-650834d22a2a",
   "metadata": {},
   "source": [
    "First we'll just import some libraries that we'll need soon: "
   ]
  },
  {
   "cell_type": "code",
   "execution_count": null,
   "id": "b435342e-0eab-45ea-ae6e-bc4298df20f2",
   "metadata": {},
   "outputs": [],
   "source": [
    "import pandas as pd\n",
    "import gspread\n",
    "import matplotlib.pyplot as plt"
   ]
  },
  {
   "cell_type": "markdown",
   "id": "7d981de4-5aa9-49fd-95ed-dc9713d9c2f4",
   "metadata": {},
   "source": [
    "Now we want to connect to our service client and check that we have access to the correct spreadsheet.\n",
    "NOTE: the filename in line 13 is where the private key JSON is stored on your computer - you'll have to change this to make things work. "
   ]
  },
  {
   "cell_type": "code",
   "execution_count": 13,
   "id": "263a941f-e118-4428-9158-064eb5a0cf4a",
   "metadata": {},
   "outputs": [
    {
     "name": "stdout",
     "output_type": "stream",
     "text": [
      "Available spreadsheets:\n",
      "Title: Furnace Index Card Form (Responses) URL: https://docs.google.com/spreadsheets/d/18ZH6zBOo3KLYb9WAdb7-_cUT7JfYxLlcqS6etdTy06Y\n"
     ]
    }
   ],
   "source": [
    "gspread_client = gspread.service_account(filename=\"C:/Users/cathe/Downloads/furnace-index-card-data-3663bd4611da.json\")\n",
    "spreadsheets = gspread_client.openall()\n",
    "if spreadsheets:\n",
    "    print(\"Available spreadsheets:\")\n",
    "    for spreadsheet in spreadsheets:\n",
    "        print(\"Title:\", spreadsheet.title, \"URL:\", spreadsheet.url)\n",
    "else:\n",
    "    print(\"No spreadsheets available\")\n",
    "    print(\"Please share the spreadsheet with Service Account email\")\n",
    "    print(gspread_client.auth.signer_email)"
   ]
  },
  {
   "cell_type": "markdown",
   "id": "3a34894b-8e39-4613-9dbf-6e69b1fe1fc5",
   "metadata": {},
   "source": [
    "Okay so if we're good that should say that we have the \"Furnace Index Card Form (Responses) page available. Now we can start extracting data from it: "
   ]
  },
  {
   "cell_type": "code",
   "execution_count": null,
   "id": "189d5a28-237e-47c4-ae78-c42b66a075e0",
   "metadata": {},
   "outputs": [],
   "source": [
    "worksheet = gspread_client.open(\"Furnace Index Card Form (Responses)\").get_worksheet(0)\n",
    "recent = worksheet.row_values(len(worksheet.col_values(1)))\n",
    "print(recent)"
   ]
  },
  {
   "cell_type": "markdown",
   "id": "3cd52edc-cb25-48c1-b002-135b00047462",
   "metadata": {},
   "source": [
    "This should give us the last row, that is, the most recent response to the google form. Now we'll graph the results: "
   ]
  },
  {
   "cell_type": "code",
   "execution_count": 55,
   "id": "460bad62-5dcd-4141-92fc-f3e96bf61946",
   "metadata": {},
   "outputs": [
    {
     "name": "stdout",
     "output_type": "stream",
     "text": [
      "[[-5, 25], [0, 25], [7.75, 800], [79.75, 800], [80.52577577577577, 25], [81.52577577577577, 25]]\n"
     ]
    }
   ],
   "source": [
    "graph_data = []\n",
    "time = [0]*7\n",
    "temp = [0]*7\n",
    "dwell = [0]*7\n",
    "if recent[5] == 'Single Zone':\n",
    "    graph_data.append([-5,25])\n",
    "    graph_data.append([0,25])\n",
    "    time[0] = 0\n",
    "    temp[0] = 25\n",
    "\n",
    "    for i in range(1,7):\n",
    "        temp[i] = int(recent[7 + 8*(i-1)])\n",
    "        time[i] = time[i-1] + dwell[i-1] + (temp[i]-temp[i-1])/int(recent[6 + 8*(i-1)])\n",
    "        dwell[i] = int(recent[8 + 8*(i-1)])\n",
    "    \n",
    "        graph_data.append([time[i], temp[i]])\n",
    "        graph_data.append([time[i] + dwell[i], temp[i]])\n",
    "        \n",
    "        if recent[9 + 8*(i-1)] != 'Yes':\n",
    "            break\n",
    "print(graph_data)\n",
    "        "
   ]
  },
  {
   "cell_type": "markdown",
   "id": "6dc2a36a-84da-4b2f-95ef-da317be5b864",
   "metadata": {},
   "source": [
    "We now see the points we want to graph. So let's graph them! "
   ]
  },
  {
   "cell_type": "code",
   "execution_count": 72,
   "id": "474e78e3-9ec5-4862-a8e5-91492074cffa",
   "metadata": {},
   "outputs": [
    {
     "data": {
      "text/plain": [
       "[<matplotlib.lines.Line2D at 0x25f0f9bad60>]"
      ]
     },
     "execution_count": 72,
     "metadata": {},
     "output_type": "execute_result"
    },
    {
     "data": {
      "image/png": "[encoded data removed]",
      "text/plain": [
       "<Figure size 1440x1440 with 1 Axes>"
      ]
     },
     "metadata": {
      "needs_background": "light"
     },
     "output_type": "display_data"
    }
   ],
   "source": [
    "x = []\n",
    "y = []\n",
    "for data in graph_data:\n",
    "    x.append(data[0])\n",
    "    y.append(data[1])\n",
    "    \n",
    "fig = plt.figure(figsize = [20,20])\n",
    "ax.spines[\"top\"].set_visible(False)\n",
    "ax.spines[\"right\"].set_visible(False)\n",
    "ax.spines[\"left\"].set_visible(False)\n",
    "ax.plot(x, y)\n"
   ]
  },
  {
   "attachments": {
    "a01be625-55fa-4323-b873-c123f8be08b8.png": {
     "image/png": "[encoded data removed]"
    },
    "ec931423-8afd-4378-b01e-8726f4685066.png": {
     "image/png": "[encoded data removed]"
    }
   },
   "cell_type": "markdown",
   "id": "0dfff251-d87c-494d-8c1c-590404033470",
   "metadata": {},
   "source": [
    "Our next![download.png](attachment:ec931423-8afd-4378-b01e-8726f4685066.png) step is to lab![download.png](attachment:a01be625-55fa-4323-b873-c123f8be08b8.png)el the graph: "
   ]
  },
  {
   "cell_type": "code",
   "execution_count": null,
   "id": "fb89b0f6-66b9-47d0-a194-9ffc7fc37511",
   "metadata": {},
   "outputs": [],
   "source": []
  },
  {
   "cell_type": "code",
   "execution_count": null,
   "id": "19e6b972-2389-4b4e-9cb8-63bf5cacf6e5",
   "metadata": {},
   "outputs": [],
   "source": []
  }
 ],
 "metadata": {
  "kernelspec": {
   "display_name": "Python 3 (ipykernel)",
   "language": "python",
   "name": "python3"
  },
  "language_info": {
   "codemirror_mode": {
    "name": "ipython",
    "version": 3
   },
   "file_extension": ".py",
   "mimetype": "text/x-python",
   "name": "python",
   "nbconvert_exporter": "python",
   "pygments_lexer": "ipython3",
   "version": "3.8.10"
  }
 },
 "nbformat": 4,
 "nbformat_minor": 5
}
